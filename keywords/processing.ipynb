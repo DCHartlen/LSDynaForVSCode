{
 "nbformat": 4,
 "nbformat_minor": 2,
 "metadata": {
  "language_info": {
   "name": "python",
   "codemirror_mode": {
    "name": "ipython",
    "version": 3
   },
   "version": "3.7.4"
  },
  "orig_nbformat": 2,
  "file_extension": ".py",
  "mimetype": "text/x-python",
  "name": "python",
  "npconvert_exporter": "python",
  "pygments_lexer": "ipython3",
  "version": 3
 },
 "cells": [
  {
   "cell_type": "code",
   "execution_count": 4,
   "metadata": {},
   "outputs": [],
   "source": [
    "import glob\n",
    "import json\n",
    "import re\n",
    "\n",
    "def replace(match):\n",
    "    global tab_inc\n",
    "    ret_string = f' ${tab_inc} '\n",
    "    tab_inc += 1\n",
    "    return ret_string\n",
    "\n",
    "overall_keywords = {}\n",
    "for file in glob.glob('keywords/*/*.k'):\n",
    "    if '_' not in file[0]:\n",
    "        with open(file,'r') as f:\n",
    "            keyword_data = f.readlines()\n",
    "\n",
    "        keyword_name = keyword_data[0].strip()\n",
    "        if 'helper' in file:\n",
    "            keyword_data = keyword_data[1:]\n",
    "        if '--BOF--' in keyword_name:\n",
    "            continue\n",
    "        else:\n",
    "\n",
    "            \n",
    "            keyword_snippet = []\n",
    "            tab_inc = 1\n",
    "            for line in keyword_data:\n",
    "                if '?' in line:\n",
    "                    if '?title?' in line:\n",
    "                        line = line.replace('?title?',f'${tab_inc}')\n",
    "                        tab_inc += 1\n",
    "                    if '?function?' in line:\n",
    "                        line = line.replace('?function?','')\n",
    "                    if '?path?' in line:\n",
    "                        line = line.replace('?path?',f' ${tab_inc}')\n",
    "                        tab_inc += 1\n",
    "                    # If we still have '?' in the line:\n",
    "                    if '?' in line:\n",
    "                        line = re.sub('\\s\\?',replace,line)\n",
    "                        \n",
    "\n",
    "\n",
    "\n",
    "\n",
    "                keyword_snippet.append(line.rstrip())\n",
    "\n",
    "            overall_keywords[keyword_name] = {}\n",
    "            overall_keywords[keyword_name]['body'] = keyword_snippet\n",
    "            overall_keywords[keyword_name]['prefix'] = [keyword_name, keyword_name.replace('*','')]\n",
    "            overall_keywords[keyword_name]['description'] = keyword_name[1:]\n",
    "\n",
    "with open('snippets/lsdyna.json','w') as f:\n",
    "    json.dump(overall_keywords,f,sort_keys=True,indent=5)"
   ]
  },
  {
   "cell_type": "code",
   "execution_count": null,
   "metadata": {},
   "outputs": [],
   "source": []
  },
  {
   "cell_type": "code",
   "execution_count": null,
   "metadata": {},
   "outputs": [],
   "source": []
  }
 ]
}